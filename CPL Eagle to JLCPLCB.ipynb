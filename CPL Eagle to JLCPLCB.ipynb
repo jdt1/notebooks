{
 "cells": [
  {
   "cell_type": "code",
   "execution_count": 56,
   "metadata": {},
   "outputs": [],
   "source": [
    "import pandas as pd"
   ]
  },
  {
   "cell_type": "code",
   "execution_count": 57,
   "metadata": {},
   "outputs": [],
   "source": [
    "FILENAME = \"PnP_Chikyuchi PCB v171_back.csv\"\n",
    "\n",
    "# Enable either Top or Bottom\n",
    "if 'back' in FILENAME:\n",
    "    LAYER = \"Bottom\"\n",
    "else:\n",
    "    LAYER = \"Top\""
   ]
  },
  {
   "cell_type": "code",
   "execution_count": 58,
   "metadata": {},
   "outputs": [
    {
     "data": {
      "text/html": [
       "<div>\n",
       "<style scoped>\n",
       "    .dataframe tbody tr th:only-of-type {\n",
       "        vertical-align: middle;\n",
       "    }\n",
       "\n",
       "    .dataframe tbody tr th {\n",
       "        vertical-align: top;\n",
       "    }\n",
       "\n",
       "    .dataframe thead th {\n",
       "        text-align: right;\n",
       "    }\n",
       "</style>\n",
       "<table border=\"1\" class=\"dataframe\">\n",
       "  <thead>\n",
       "    <tr style=\"text-align: right;\">\n",
       "      <th></th>\n",
       "      <th>Name</th>\n",
       "      <th>X</th>\n",
       "      <th>Y</th>\n",
       "      <th>Angle</th>\n",
       "      <th>Value</th>\n",
       "      <th>Package</th>\n",
       "    </tr>\n",
       "  </thead>\n",
       "  <tbody>\n",
       "    <tr>\n",
       "      <th>0</th>\n",
       "      <td>C1</td>\n",
       "      <td>-16.55</td>\n",
       "      <td>0.00</td>\n",
       "      <td>180.0</td>\n",
       "      <td>10uF</td>\n",
       "      <td>CAPC1608X85</td>\n",
       "    </tr>\n",
       "    <tr>\n",
       "      <th>1</th>\n",
       "      <td>C2</td>\n",
       "      <td>-11.75</td>\n",
       "      <td>-0.60</td>\n",
       "      <td>180.0</td>\n",
       "      <td>22pF</td>\n",
       "      <td>CAPC1608X85</td>\n",
       "    </tr>\n",
       "    <tr>\n",
       "      <th>2</th>\n",
       "      <td>C3</td>\n",
       "      <td>-12.80</td>\n",
       "      <td>0.90</td>\n",
       "      <td>180.0</td>\n",
       "      <td>10uF</td>\n",
       "      <td>CAPC1608X85</td>\n",
       "    </tr>\n",
       "    <tr>\n",
       "      <th>3</th>\n",
       "      <td>C4</td>\n",
       "      <td>-15.85</td>\n",
       "      <td>-7.60</td>\n",
       "      <td>270.0</td>\n",
       "      <td>1uF</td>\n",
       "      <td>CAPC1608X85</td>\n",
       "    </tr>\n",
       "    <tr>\n",
       "      <th>4</th>\n",
       "      <td>C5</td>\n",
       "      <td>-12.05</td>\n",
       "      <td>-9.25</td>\n",
       "      <td>270.0</td>\n",
       "      <td>10uF</td>\n",
       "      <td>CAPC1608X85</td>\n",
       "    </tr>\n",
       "  </tbody>\n",
       "</table>\n",
       "</div>"
      ],
      "text/plain": [
       "  Name      X     Y  Angle Value      Package\n",
       "0   C1 -16.55  0.00  180.0  10uF  CAPC1608X85\n",
       "1   C2 -11.75 -0.60  180.0  22pF  CAPC1608X85\n",
       "2   C3 -12.80  0.90  180.0  10uF  CAPC1608X85\n",
       "3   C4 -15.85 -7.60  270.0   1uF  CAPC1608X85\n",
       "4   C5 -12.05 -9.25  270.0  10uF  CAPC1608X85"
      ]
     },
     "execution_count": 58,
     "metadata": {},
     "output_type": "execute_result"
    }
   ],
   "source": [
    "df = pd.read_csv(FILENAME)\n",
    "df.head()"
   ]
  },
  {
   "cell_type": "code",
   "execution_count": 59,
   "metadata": {},
   "outputs": [
    {
     "data": {
      "text/html": [
       "<div>\n",
       "<style scoped>\n",
       "    .dataframe tbody tr th:only-of-type {\n",
       "        vertical-align: middle;\n",
       "    }\n",
       "\n",
       "    .dataframe tbody tr th {\n",
       "        vertical-align: top;\n",
       "    }\n",
       "\n",
       "    .dataframe thead th {\n",
       "        text-align: right;\n",
       "    }\n",
       "</style>\n",
       "<table border=\"1\" class=\"dataframe\">\n",
       "  <thead>\n",
       "    <tr style=\"text-align: right;\">\n",
       "      <th></th>\n",
       "      <th>Designator</th>\n",
       "      <th>Mid X</th>\n",
       "      <th>Mid Y</th>\n",
       "      <th>Rotation</th>\n",
       "      <th>Layer</th>\n",
       "    </tr>\n",
       "  </thead>\n",
       "  <tbody>\n",
       "    <tr>\n",
       "      <th>0</th>\n",
       "      <td>C1</td>\n",
       "      <td>-16.55</td>\n",
       "      <td>0.00</td>\n",
       "      <td>180.0</td>\n",
       "      <td>Bottom</td>\n",
       "    </tr>\n",
       "    <tr>\n",
       "      <th>1</th>\n",
       "      <td>C2</td>\n",
       "      <td>-11.75</td>\n",
       "      <td>-0.60</td>\n",
       "      <td>180.0</td>\n",
       "      <td>Bottom</td>\n",
       "    </tr>\n",
       "    <tr>\n",
       "      <th>2</th>\n",
       "      <td>C3</td>\n",
       "      <td>-12.80</td>\n",
       "      <td>0.90</td>\n",
       "      <td>180.0</td>\n",
       "      <td>Bottom</td>\n",
       "    </tr>\n",
       "    <tr>\n",
       "      <th>3</th>\n",
       "      <td>C4</td>\n",
       "      <td>-15.85</td>\n",
       "      <td>-7.60</td>\n",
       "      <td>270.0</td>\n",
       "      <td>Bottom</td>\n",
       "    </tr>\n",
       "    <tr>\n",
       "      <th>4</th>\n",
       "      <td>C5</td>\n",
       "      <td>-12.05</td>\n",
       "      <td>-9.25</td>\n",
       "      <td>270.0</td>\n",
       "      <td>Bottom</td>\n",
       "    </tr>\n",
       "  </tbody>\n",
       "</table>\n",
       "</div>"
      ],
      "text/plain": [
       "  Designator  Mid X  Mid Y  Rotation   Layer\n",
       "0         C1 -16.55   0.00     180.0  Bottom\n",
       "1         C2 -11.75  -0.60     180.0  Bottom\n",
       "2         C3 -12.80   0.90     180.0  Bottom\n",
       "3         C4 -15.85  -7.60     270.0  Bottom\n",
       "4         C5 -12.05  -9.25     270.0  Bottom"
      ]
     },
     "execution_count": 59,
     "metadata": {},
     "output_type": "execute_result"
    }
   ],
   "source": [
    "df = df.rename({'Name': 'Designator', 'X': 'Mid X', 'Y': 'Mid Y', 'Angle': 'Rotation'}, axis=1).drop(['Value', 'Package'], axis=1)\n",
    "df['Layer'] = len(df) * [LAYER]\n",
    "df.head()"
   ]
  },
  {
   "cell_type": "code",
   "execution_count": 61,
   "metadata": {
    "scrolled": true
   },
   "outputs": [],
   "source": [
    "new_filename = FILENAME.rstrip('.csv') + '_JLC.csv'\n",
    "df.to_csv(new_filename)"
   ]
  }
 ],
 "metadata": {
  "kernelspec": {
   "display_name": "Python 3",
   "language": "python",
   "name": "python3"
  },
  "language_info": {
   "codemirror_mode": {
    "name": "ipython",
    "version": 3
   },
   "file_extension": ".py",
   "mimetype": "text/x-python",
   "name": "python",
   "nbconvert_exporter": "python",
   "pygments_lexer": "ipython3",
   "version": "3.9.1"
  }
 },
 "nbformat": 4,
 "nbformat_minor": 4
}
